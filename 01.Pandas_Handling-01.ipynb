{
 "cells": [
  {
   "cell_type": "markdown",
   "metadata": {
    "heading_collapsed": true
   },
   "source": [
    "# ENV"
   ]
  },
  {
   "cell_type": "code",
   "execution_count": 1,
   "metadata": {
    "hidden": true
   },
   "outputs": [
    {
     "data": {
      "text/html": [
       "<style>.container { width:78% !important; }</style>"
      ],
      "text/plain": [
       "<IPython.core.display.HTML object>"
      ]
     },
     "metadata": {},
     "output_type": "display_data"
    }
   ],
   "source": [
    "from IPython.core.display import display, HTML\n",
    "display(HTML(\"<style>.container { width:78% !important; }</style>\"))"
   ]
  },
  {
   "cell_type": "markdown",
   "metadata": {
    "hidden": true
   },
   "source": [
    "* package load"
   ]
  },
  {
   "cell_type": "code",
   "execution_count": 167,
   "metadata": {
    "hidden": true
   },
   "outputs": [],
   "source": [
    "import pandas as pd\n",
    "import numpy as np\n",
    "from datetime import datetime, date\n",
    "\n",
    "import json"
   ]
  },
  {
   "cell_type": "markdown",
   "metadata": {
    "heading_collapsed": true
   },
   "source": [
    "# DataFrame handling in Pandas"
   ]
  },
  {
   "cell_type": "markdown",
   "metadata": {
    "heading_collapsed": true,
    "hidden": true
   },
   "source": [
    "## Series"
   ]
  },
  {
   "cell_type": "markdown",
   "metadata": {
    "hidden": true
   },
   "source": [
    "### 개요"
   ]
  },
  {
   "cell_type": "markdown",
   "metadata": {
    "hidden": true
   },
   "source": [
    "* 엑셀의 컬럼 하나와 같다고 할 수 있습니다.\n",
    "* 1차원 배열의 자료 구조를 갖고 있습니다.\n",
    "* numpy 자료형의 저장이 가능합니다.\n",
    "* index를 가지고 있다는 것이 중요합니다."
   ]
  },
  {
   "cell_type": "markdown",
   "metadata": {
    "hidden": true
   },
   "source": [
    "### 생성"
   ]
  },
  {
   "cell_type": "markdown",
   "metadata": {
    "hidden": true
   },
   "source": [
    "* 먼저 list 자료 구조를 만들어 봅니다. "
   ]
  },
  {
   "cell_type": "code",
   "execution_count": 3,
   "metadata": {
    "hidden": true
   },
   "outputs": [
    {
     "data": {
      "text/plain": [
       "[10, 20, 30, 40, 50]"
      ]
     },
     "execution_count": 3,
     "metadata": {},
     "output_type": "execute_result"
    }
   ],
   "source": [
    "[10,20,30,40,50]"
   ]
  },
  {
   "cell_type": "markdown",
   "metadata": {
    "hidden": true
   },
   "source": [
    "* list 자료 구조를 Series 자료 구조로 만들어 봅니다."
   ]
  },
  {
   "cell_type": "code",
   "execution_count": 4,
   "metadata": {
    "hidden": true
   },
   "outputs": [
    {
     "data": {
      "text/plain": [
       "0    10\n",
       "1    20\n",
       "2    30\n",
       "3    40\n",
       "4    50\n",
       "dtype: int64"
      ]
     },
     "execution_count": 4,
     "metadata": {},
     "output_type": "execute_result"
    }
   ],
   "source": [
    "pd.Series([10,20,30,40,50])"
   ]
  },
  {
   "cell_type": "markdown",
   "metadata": {
    "hidden": true
   },
   "source": [
    "* list와 비교할 때, 값과 함께 index가 있는 것을 확인할 수 있습니다. "
   ]
  },
  {
   "cell_type": "markdown",
   "metadata": {
    "hidden": true
   },
   "source": [
    "* 숫자 뿐만 아니라, 문자형 list로 series를 만들 수 있습니다. "
   ]
  },
  {
   "cell_type": "code",
   "execution_count": 16,
   "metadata": {
    "hidden": true
   },
   "outputs": [
    {
     "data": {
      "text/plain": [
       "['NRF', 'KISTI', 'KISTEP', 'NIA', 'KDI', 'STEPI', 'KIET', 'KISDI', 'NIPA']"
      ]
     },
     "execution_count": 16,
     "metadata": {},
     "output_type": "execute_result"
    }
   ],
   "source": [
    "['NRF','KISTI','KISTEP','NIA','KDI','STEPI','KIET','KISDI','NIPA']"
   ]
  },
  {
   "cell_type": "code",
   "execution_count": 32,
   "metadata": {
    "hidden": true
   },
   "outputs": [],
   "source": [
    "d = ['NRF','KISTI','KISTEP','NIA','KDI','STEPI','KIET','KISDI','NIPA']"
   ]
  },
  {
   "cell_type": "code",
   "execution_count": 33,
   "metadata": {
    "hidden": true
   },
   "outputs": [],
   "source": [
    "s = pd.Series(d)"
   ]
  },
  {
   "cell_type": "code",
   "execution_count": 34,
   "metadata": {
    "hidden": true
   },
   "outputs": [
    {
     "data": {
      "text/plain": [
       "0       NRF\n",
       "1     KISTI\n",
       "2    KISTEP\n",
       "3       NIA\n",
       "4       KDI\n",
       "5     STEPI\n",
       "6      KIET\n",
       "7     KISDI\n",
       "8      NIPA\n",
       "dtype: object"
      ]
     },
     "execution_count": 34,
     "metadata": {},
     "output_type": "execute_result"
    }
   ],
   "source": [
    "s"
   ]
  },
  {
   "cell_type": "markdown",
   "metadata": {
    "hidden": true
   },
   "source": [
    "### 크기 확인"
   ]
  },
  {
   "cell_type": "markdown",
   "metadata": {
    "hidden": true
   },
   "source": [
    "* size: 몇 개의 데이터로 구성되어 있는지 확인"
   ]
  },
  {
   "cell_type": "code",
   "execution_count": 22,
   "metadata": {
    "hidden": true
   },
   "outputs": [
    {
     "data": {
      "text/plain": [
       "9"
      ]
     },
     "execution_count": 22,
     "metadata": {},
     "output_type": "execute_result"
    }
   ],
   "source": [
    "s.size"
   ]
  },
  {
   "cell_type": "code",
   "execution_count": 23,
   "metadata": {
    "hidden": true
   },
   "outputs": [
    {
     "data": {
      "text/plain": [
       "9"
      ]
     },
     "execution_count": 23,
     "metadata": {},
     "output_type": "execute_result"
    }
   ],
   "source": [
    "len(s)"
   ]
  },
  {
   "cell_type": "markdown",
   "metadata": {
    "hidden": true
   },
   "source": [
    "* shape: 행과 열의 크기를 모두 확인"
   ]
  },
  {
   "cell_type": "code",
   "execution_count": 24,
   "metadata": {
    "hidden": true
   },
   "outputs": [
    {
     "data": {
      "text/plain": [
       "(9,)"
      ]
     },
     "execution_count": 24,
     "metadata": {},
     "output_type": "execute_result"
    }
   ],
   "source": [
    "s.shape"
   ]
  },
  {
   "cell_type": "markdown",
   "metadata": {
    "hidden": true
   },
   "source": [
    "### 값 확인"
   ]
  },
  {
   "cell_type": "markdown",
   "metadata": {
    "hidden": true
   },
   "source": [
    "* values: 데이터 값 전체를 배열로 표시해줍니다."
   ]
  },
  {
   "cell_type": "code",
   "execution_count": 25,
   "metadata": {
    "hidden": true
   },
   "outputs": [
    {
     "data": {
      "text/plain": [
       "array(['NRF', 'KISTI', 'KISTEP', 'NIA', 'KDI', 'STEPI', 'KIET', 'KISDI',\n",
       "       'NIPA'], dtype=object)"
      ]
     },
     "execution_count": 25,
     "metadata": {},
     "output_type": "execute_result"
    }
   ],
   "source": [
    "s.values"
   ]
  },
  {
   "cell_type": "markdown",
   "metadata": {
    "hidden": true
   },
   "source": [
    "* head(갯수) : 데이터가 많을 때, 앞에서 부터 갯수만큼만 볼 수 있습니다.\n",
    "* tail(갯수) : 데이터가 많을 때, 뒤에서 부터 갯수만크만 볼 수 있습니다."
   ]
  },
  {
   "cell_type": "code",
   "execution_count": 27,
   "metadata": {
    "hidden": true
   },
   "outputs": [
    {
     "data": {
      "text/plain": [
       "0       NRF\n",
       "1     KISTI\n",
       "2    KISTEP\n",
       "3       NIA\n",
       "4       KDI\n",
       "dtype: object"
      ]
     },
     "execution_count": 27,
     "metadata": {},
     "output_type": "execute_result"
    }
   ],
   "source": [
    "s.head(5)"
   ]
  },
  {
   "cell_type": "code",
   "execution_count": 28,
   "metadata": {
    "hidden": true
   },
   "outputs": [
    {
     "data": {
      "text/plain": [
       "4      KDI\n",
       "5    STEPI\n",
       "6     KIET\n",
       "7    KISDI\n",
       "8     NIPA\n",
       "dtype: object"
      ]
     },
     "execution_count": 28,
     "metadata": {},
     "output_type": "execute_result"
    }
   ],
   "source": [
    "s.tail(5)"
   ]
  },
  {
   "cell_type": "markdown",
   "metadata": {
    "hidden": true
   },
   "source": [
    "### 인덱스 다루기"
   ]
  },
  {
   "cell_type": "markdown",
   "metadata": {
    "hidden": true
   },
   "source": [
    "* 인덱스 확인"
   ]
  },
  {
   "cell_type": "code",
   "execution_count": 29,
   "metadata": {
    "hidden": true
   },
   "outputs": [
    {
     "data": {
      "text/plain": [
       "RangeIndex(start=0, stop=9, step=1)"
      ]
     },
     "execution_count": 29,
     "metadata": {},
     "output_type": "execute_result"
    }
   ],
   "source": [
    "s.index"
   ]
  },
  {
   "cell_type": "markdown",
   "metadata": {
    "hidden": true
   },
   "source": [
    "* index를 따로 지정하지 않으면 위와 같이 일련의 숫자가 지정되지만, 사용자가 인덱스를 만들 수도 있습니다."
   ]
  },
  {
   "cell_type": "code",
   "execution_count": 36,
   "metadata": {
    "hidden": true
   },
   "outputs": [],
   "source": [
    "data = ['NRF','KISTI','KISTEP','NIA','KDI','STEPI','KIET','KISDI','NIPA']"
   ]
  },
  {
   "cell_type": "code",
   "execution_count": 37,
   "metadata": {
    "hidden": true
   },
   "outputs": [],
   "source": [
    "label = ['a','b','c','d','e','f','g','h','i']"
   ]
  },
  {
   "cell_type": "code",
   "execution_count": 39,
   "metadata": {
    "hidden": true
   },
   "outputs": [],
   "source": [
    "s2 = pd.Series(data, index = label)"
   ]
  },
  {
   "cell_type": "code",
   "execution_count": 40,
   "metadata": {
    "hidden": true
   },
   "outputs": [
    {
     "data": {
      "text/plain": [
       "a       NRF\n",
       "b     KISTI\n",
       "c    KISTEP\n",
       "d       NIA\n",
       "e       KDI\n",
       "f     STEPI\n",
       "g      KIET\n",
       "h     KISDI\n",
       "i      NIPA\n",
       "dtype: object"
      ]
     },
     "execution_count": 40,
     "metadata": {},
     "output_type": "execute_result"
    }
   ],
   "source": [
    "s2"
   ]
  },
  {
   "cell_type": "code",
   "execution_count": 41,
   "metadata": {
    "hidden": true
   },
   "outputs": [
    {
     "data": {
      "text/plain": [
       "Index(['a', 'b', 'c', 'd', 'e', 'f', 'g', 'h', 'i'], dtype='object')"
      ]
     },
     "execution_count": 41,
     "metadata": {},
     "output_type": "execute_result"
    }
   ],
   "source": [
    "s2.index"
   ]
  },
  {
   "cell_type": "code",
   "execution_count": 42,
   "metadata": {
    "hidden": true
   },
   "outputs": [
    {
     "data": {
      "text/plain": [
       "RangeIndex(start=0, stop=9, step=1)"
      ]
     },
     "execution_count": 42,
     "metadata": {},
     "output_type": "execute_result"
    }
   ],
   "source": [
    "s.index"
   ]
  },
  {
   "cell_type": "markdown",
   "metadata": {
    "hidden": true
   },
   "source": [
    "* index를 기준으로 값을 확인할 수 있습니다."
   ]
  },
  {
   "cell_type": "code",
   "execution_count": 46,
   "metadata": {
    "hidden": true
   },
   "outputs": [
    {
     "data": {
      "text/plain": [
       "'NRF'"
      ]
     },
     "execution_count": 46,
     "metadata": {},
     "output_type": "execute_result"
    }
   ],
   "source": [
    "s2['a']"
   ]
  },
  {
   "cell_type": "markdown",
   "metadata": {
    "hidden": true
   },
   "source": [
    "* 여러 개의 인덱스의 값을 확인하려고 할 때에는 아래와 같이 list 형식으로 전달해야 합니다.\n",
    "* 그래서, [  ]가 2중으로 되어 있는 것을 주의해야 합니다."
   ]
  },
  {
   "cell_type": "code",
   "execution_count": 45,
   "metadata": {
    "hidden": true
   },
   "outputs": [
    {
     "data": {
      "text/plain": [
       "a      NRF\n",
       "b    KISTI\n",
       "dtype: object"
      ]
     },
     "execution_count": 45,
     "metadata": {},
     "output_type": "execute_result"
    }
   ],
   "source": [
    "s2[['a','b']]"
   ]
  },
  {
   "cell_type": "markdown",
   "metadata": {
    "hidden": true
   },
   "source": [
    "### 일부 값 추출"
   ]
  },
  {
   "cell_type": "markdown",
   "metadata": {
    "hidden": true
   },
   "source": [
    "* 인덱스의 위치로 값을 확인할 수 있습니다."
   ]
  },
  {
   "cell_type": "code",
   "execution_count": 51,
   "metadata": {
    "hidden": true
   },
   "outputs": [
    {
     "data": {
      "text/plain": [
       "'NRF'"
      ]
     },
     "execution_count": 51,
     "metadata": {},
     "output_type": "execute_result"
    }
   ],
   "source": [
    "s2[0]"
   ]
  },
  {
   "cell_type": "code",
   "execution_count": 50,
   "metadata": {
    "hidden": true
   },
   "outputs": [
    {
     "data": {
      "text/plain": [
       "b     KISTI\n",
       "c    KISTEP\n",
       "dtype: object"
      ]
     },
     "execution_count": 50,
     "metadata": {},
     "output_type": "execute_result"
    }
   ],
   "source": [
    "s2[[1,2]]"
   ]
  },
  {
   "cell_type": "code",
   "execution_count": 53,
   "metadata": {
    "hidden": true
   },
   "outputs": [
    {
     "data": {
      "text/plain": [
       "c    KISTEP\n",
       "d       NIA\n",
       "e       KDI\n",
       "f     STEPI\n",
       "dtype: object"
      ]
     },
     "execution_count": 53,
     "metadata": {},
     "output_type": "execute_result"
    }
   ],
   "source": [
    "s2[2:6]"
   ]
  },
  {
   "cell_type": "markdown",
   "metadata": {
    "hidden": true
   },
   "source": [
    "* 앞에서 살펴본 것처럼 인덱스의 이름으로 값을 확인할 수 있습니다."
   ]
  },
  {
   "cell_type": "code",
   "execution_count": 55,
   "metadata": {
    "hidden": true
   },
   "outputs": [
    {
     "data": {
      "text/plain": [
       "a       NRF\n",
       "b     KISTI\n",
       "c    KISTEP\n",
       "dtype: object"
      ]
     },
     "execution_count": 55,
     "metadata": {},
     "output_type": "execute_result"
    }
   ],
   "source": [
    "s2[['a','b','c']]"
   ]
  },
  {
   "cell_type": "markdown",
   "metadata": {
    "heading_collapsed": true,
    "hidden": true
   },
   "source": [
    "## DataFrame"
   ]
  },
  {
   "cell_type": "markdown",
   "metadata": {
    "hidden": true
   },
   "source": [
    "### 개요"
   ]
  },
  {
   "cell_type": "markdown",
   "metadata": {
    "hidden": true
   },
   "source": [
    "* 동일한 index를 공유하는 Series의 집합입니다.\n",
    "* 엑셀에서 하나의 Sheet가 하나의 표로 구성될 때와 같은 모양입니다.\n",
    "* 행과 열로 구성되어 있고, 각 열의 행을 나타내는 index를 가지고 있습니다. "
   ]
  },
  {
   "cell_type": "markdown",
   "metadata": {
    "hidden": true
   },
   "source": [
    "### 생성"
   ]
  },
  {
   "cell_type": "markdown",
   "metadata": {
    "hidden": true
   },
   "source": [
    "* 아래와 같은 list 형식의 데이터가 있습니다. "
   ]
  },
  {
   "cell_type": "code",
   "execution_count": 77,
   "metadata": {
    "hidden": true
   },
   "outputs": [],
   "source": [
    "org = ['NRF','KISTI','KISTEP','NIA','KDI','STEPI','KIET','KISDI','NIPA']"
   ]
  },
  {
   "cell_type": "markdown",
   "metadata": {
    "hidden": true
   },
   "source": [
    "* 이것을 아래와 같이 Series로 만들 수 있습니다. \n",
    "* 하나의 컬럼 데이터가 만들어집니다."
   ]
  },
  {
   "cell_type": "code",
   "execution_count": 80,
   "metadata": {
    "hidden": true
   },
   "outputs": [],
   "source": [
    "s_org = pd.Series(org)"
   ]
  },
  {
   "cell_type": "markdown",
   "metadata": {
    "hidden": true
   },
   "source": [
    "* 데이터의 형식과 값을 살펴보겠습니다."
   ]
  },
  {
   "cell_type": "code",
   "execution_count": 102,
   "metadata": {
    "hidden": true
   },
   "outputs": [
    {
     "data": {
      "text/plain": [
       "pandas.core.series.Series"
      ]
     },
     "execution_count": 102,
     "metadata": {},
     "output_type": "execute_result"
    }
   ],
   "source": [
    "type(s_org)"
   ]
  },
  {
   "cell_type": "code",
   "execution_count": 97,
   "metadata": {
    "hidden": true
   },
   "outputs": [
    {
     "data": {
      "text/plain": [
       "0       NRF\n",
       "1     KISTI\n",
       "2    KISTEP\n",
       "3       NIA\n",
       "4       KDI\n",
       "5     STEPI\n",
       "6      KIET\n",
       "7     KISDI\n",
       "8      NIPA\n",
       "dtype: object"
      ]
     },
     "execution_count": 97,
     "metadata": {},
     "output_type": "execute_result"
    }
   ],
   "source": [
    "s_org"
   ]
  },
  {
   "cell_type": "markdown",
   "metadata": {
    "hidden": true
   },
   "source": [
    "* 이번에는 동일한 방식으로 amt 컬럼 데이터를 만들어 보겠습니다. "
   ]
  },
  {
   "cell_type": "code",
   "execution_count": 66,
   "metadata": {
    "hidden": true
   },
   "outputs": [],
   "source": [
    "amt = [1000,2000,3000,4000,5000,6000,7000,8000,9000]"
   ]
  },
  {
   "cell_type": "code",
   "execution_count": 82,
   "metadata": {
    "hidden": true
   },
   "outputs": [],
   "source": [
    "s_amt=pd.Series(amt)"
   ]
  },
  {
   "cell_type": "code",
   "execution_count": 83,
   "metadata": {
    "hidden": true
   },
   "outputs": [
    {
     "data": {
      "text/plain": [
       "0    1000\n",
       "1    2000\n",
       "2    3000\n",
       "3    4000\n",
       "4    5000\n",
       "5    6000\n",
       "6    7000\n",
       "7    8000\n",
       "8    9000\n",
       "dtype: int64"
      ]
     },
     "execution_count": 83,
     "metadata": {},
     "output_type": "execute_result"
    }
   ],
   "source": [
    "s_amt"
   ]
  },
  {
   "cell_type": "markdown",
   "metadata": {
    "hidden": true
   },
   "source": [
    "* 두 개의 컬럼 데이터가 만들어졌습니다.\n",
    "* 아래와 같이 dictionary 형식의 데이터를 구성합니다.\n",
    "* 각각의 컬럼 데이터에 컬럼 이름을 부여하고 있습니다. "
   ]
  },
  {
   "cell_type": "code",
   "execution_count": 111,
   "metadata": {
    "hidden": true
   },
   "outputs": [],
   "source": [
    "dict = {'org': s_org, 'amt': s_amt}"
   ]
  },
  {
   "cell_type": "markdown",
   "metadata": {
    "hidden": true
   },
   "source": [
    "* 2개의 컬럼으로 구성된 dict 데이터를 DataFrame으로 만듭니다."
   ]
  },
  {
   "cell_type": "code",
   "execution_count": 112,
   "metadata": {
    "hidden": true
   },
   "outputs": [],
   "source": [
    "df = pd.DataFrame(dict)"
   ]
  },
  {
   "cell_type": "markdown",
   "metadata": {
    "hidden": true
   },
   "source": [
    "* 데이터의 형식과 값을 살펴봅니다. "
   ]
  },
  {
   "cell_type": "code",
   "execution_count": 113,
   "metadata": {
    "hidden": true
   },
   "outputs": [
    {
     "data": {
      "text/plain": [
       "pandas.core.frame.DataFrame"
      ]
     },
     "execution_count": 113,
     "metadata": {},
     "output_type": "execute_result"
    }
   ],
   "source": [
    "type(df)"
   ]
  },
  {
   "cell_type": "code",
   "execution_count": 114,
   "metadata": {
    "hidden": true
   },
   "outputs": [
    {
     "data": {
      "text/html": [
       "<div>\n",
       "<style scoped>\n",
       "    .dataframe tbody tr th:only-of-type {\n",
       "        vertical-align: middle;\n",
       "    }\n",
       "\n",
       "    .dataframe tbody tr th {\n",
       "        vertical-align: top;\n",
       "    }\n",
       "\n",
       "    .dataframe thead th {\n",
       "        text-align: right;\n",
       "    }\n",
       "</style>\n",
       "<table border=\"1\" class=\"dataframe\">\n",
       "  <thead>\n",
       "    <tr style=\"text-align: right;\">\n",
       "      <th></th>\n",
       "      <th>org</th>\n",
       "      <th>amt</th>\n",
       "    </tr>\n",
       "  </thead>\n",
       "  <tbody>\n",
       "    <tr>\n",
       "      <th>0</th>\n",
       "      <td>NRF</td>\n",
       "      <td>1000</td>\n",
       "    </tr>\n",
       "    <tr>\n",
       "      <th>1</th>\n",
       "      <td>KISTI</td>\n",
       "      <td>2000</td>\n",
       "    </tr>\n",
       "    <tr>\n",
       "      <th>2</th>\n",
       "      <td>KISTEP</td>\n",
       "      <td>3000</td>\n",
       "    </tr>\n",
       "    <tr>\n",
       "      <th>3</th>\n",
       "      <td>NIA</td>\n",
       "      <td>4000</td>\n",
       "    </tr>\n",
       "    <tr>\n",
       "      <th>4</th>\n",
       "      <td>KDI</td>\n",
       "      <td>5000</td>\n",
       "    </tr>\n",
       "  </tbody>\n",
       "</table>\n",
       "</div>"
      ],
      "text/plain": [
       "      org   amt\n",
       "0     NRF  1000\n",
       "1   KISTI  2000\n",
       "2  KISTEP  3000\n",
       "3     NIA  4000\n",
       "4     KDI  5000"
      ]
     },
     "execution_count": 114,
     "metadata": {},
     "output_type": "execute_result"
    }
   ],
   "source": [
    "df.head(5)"
   ]
  },
  {
   "cell_type": "markdown",
   "metadata": {
    "hidden": true
   },
   "source": [
    "### 크기 확인"
   ]
  },
  {
   "cell_type": "markdown",
   "metadata": {
    "hidden": true
   },
   "source": [
    "* Series에서 사용했던 size와 shape를 이용합니다. "
   ]
  },
  {
   "cell_type": "code",
   "execution_count": 108,
   "metadata": {
    "hidden": true
   },
   "outputs": [
    {
     "data": {
      "text/plain": [
       "18"
      ]
     },
     "execution_count": 108,
     "metadata": {},
     "output_type": "execute_result"
    }
   ],
   "source": [
    "df.size"
   ]
  },
  {
   "cell_type": "code",
   "execution_count": 109,
   "metadata": {
    "hidden": true
   },
   "outputs": [
    {
     "data": {
      "text/plain": [
       "(9, 2)"
      ]
     },
     "execution_count": 109,
     "metadata": {},
     "output_type": "execute_result"
    }
   ],
   "source": [
    "df.shape"
   ]
  },
  {
   "cell_type": "markdown",
   "metadata": {
    "hidden": true
   },
   "source": [
    "### 값 확인"
   ]
  },
  {
   "cell_type": "markdown",
   "metadata": {
    "hidden": true
   },
   "source": [
    "* 특정 컬럼을 선택하여 확인\n",
    "    * Series 자료형으로 확인\n",
    "    * DataFrame 자료형으로 확인"
   ]
  },
  {
   "cell_type": "markdown",
   "metadata": {
    "hidden": true
   },
   "source": [
    "* 하나의 컬럼만을 선택하여 Series 자료형으로 확인"
   ]
  },
  {
   "cell_type": "code",
   "execution_count": 118,
   "metadata": {
    "hidden": true
   },
   "outputs": [
    {
     "data": {
      "text/plain": [
       "0       NRF\n",
       "1     KISTI\n",
       "2    KISTEP\n",
       "3       NIA\n",
       "4       KDI\n",
       "5     STEPI\n",
       "6      KIET\n",
       "7     KISDI\n",
       "8      NIPA\n",
       "Name: org, dtype: object"
      ]
     },
     "execution_count": 118,
     "metadata": {},
     "output_type": "execute_result"
    }
   ],
   "source": [
    "df['org']"
   ]
  },
  {
   "cell_type": "markdown",
   "metadata": {
    "hidden": true
   },
   "source": [
    "* 하나의 컬럼만을 선택하여 DataFrame 자료형으로 확인"
   ]
  },
  {
   "cell_type": "code",
   "execution_count": 119,
   "metadata": {
    "hidden": true
   },
   "outputs": [
    {
     "data": {
      "text/html": [
       "<div>\n",
       "<style scoped>\n",
       "    .dataframe tbody tr th:only-of-type {\n",
       "        vertical-align: middle;\n",
       "    }\n",
       "\n",
       "    .dataframe tbody tr th {\n",
       "        vertical-align: top;\n",
       "    }\n",
       "\n",
       "    .dataframe thead th {\n",
       "        text-align: right;\n",
       "    }\n",
       "</style>\n",
       "<table border=\"1\" class=\"dataframe\">\n",
       "  <thead>\n",
       "    <tr style=\"text-align: right;\">\n",
       "      <th></th>\n",
       "      <th>org</th>\n",
       "    </tr>\n",
       "  </thead>\n",
       "  <tbody>\n",
       "    <tr>\n",
       "      <th>0</th>\n",
       "      <td>NRF</td>\n",
       "    </tr>\n",
       "    <tr>\n",
       "      <th>1</th>\n",
       "      <td>KISTI</td>\n",
       "    </tr>\n",
       "    <tr>\n",
       "      <th>2</th>\n",
       "      <td>KISTEP</td>\n",
       "    </tr>\n",
       "    <tr>\n",
       "      <th>3</th>\n",
       "      <td>NIA</td>\n",
       "    </tr>\n",
       "    <tr>\n",
       "      <th>4</th>\n",
       "      <td>KDI</td>\n",
       "    </tr>\n",
       "    <tr>\n",
       "      <th>5</th>\n",
       "      <td>STEPI</td>\n",
       "    </tr>\n",
       "    <tr>\n",
       "      <th>6</th>\n",
       "      <td>KIET</td>\n",
       "    </tr>\n",
       "    <tr>\n",
       "      <th>7</th>\n",
       "      <td>KISDI</td>\n",
       "    </tr>\n",
       "    <tr>\n",
       "      <th>8</th>\n",
       "      <td>NIPA</td>\n",
       "    </tr>\n",
       "  </tbody>\n",
       "</table>\n",
       "</div>"
      ],
      "text/plain": [
       "      org\n",
       "0     NRF\n",
       "1   KISTI\n",
       "2  KISTEP\n",
       "3     NIA\n",
       "4     KDI\n",
       "5   STEPI\n",
       "6    KIET\n",
       "7   KISDI\n",
       "8    NIPA"
      ]
     },
     "execution_count": 119,
     "metadata": {},
     "output_type": "execute_result"
    }
   ],
   "source": [
    "df[['org']]"
   ]
  },
  {
   "cell_type": "markdown",
   "metadata": {
    "heading_collapsed": true,
    "hidden": true
   },
   "source": [
    "## column names"
   ]
  },
  {
   "cell_type": "markdown",
   "metadata": {
    "hidden": true
   },
   "source": [
    "### 컬럼 이름 확인"
   ]
  },
  {
   "cell_type": "code",
   "execution_count": 120,
   "metadata": {
    "hidden": true
   },
   "outputs": [
    {
     "data": {
      "text/plain": [
       "Index(['org', 'amt'], dtype='object')"
      ]
     },
     "execution_count": 120,
     "metadata": {},
     "output_type": "execute_result"
    }
   ],
   "source": [
    "df.columns"
   ]
  },
  {
   "cell_type": "markdown",
   "metadata": {
    "hidden": true
   },
   "source": [
    "### 컬럼 이름 변경"
   ]
  },
  {
   "cell_type": "code",
   "execution_count": 121,
   "metadata": {
    "hidden": true
   },
   "outputs": [],
   "source": [
    "df.columns = ['기관','금액']"
   ]
  },
  {
   "cell_type": "code",
   "execution_count": 122,
   "metadata": {
    "hidden": true
   },
   "outputs": [
    {
     "data": {
      "text/html": [
       "<div>\n",
       "<style scoped>\n",
       "    .dataframe tbody tr th:only-of-type {\n",
       "        vertical-align: middle;\n",
       "    }\n",
       "\n",
       "    .dataframe tbody tr th {\n",
       "        vertical-align: top;\n",
       "    }\n",
       "\n",
       "    .dataframe thead th {\n",
       "        text-align: right;\n",
       "    }\n",
       "</style>\n",
       "<table border=\"1\" class=\"dataframe\">\n",
       "  <thead>\n",
       "    <tr style=\"text-align: right;\">\n",
       "      <th></th>\n",
       "      <th>기관</th>\n",
       "      <th>금액</th>\n",
       "    </tr>\n",
       "  </thead>\n",
       "  <tbody>\n",
       "    <tr>\n",
       "      <th>0</th>\n",
       "      <td>NRF</td>\n",
       "      <td>1000</td>\n",
       "    </tr>\n",
       "    <tr>\n",
       "      <th>1</th>\n",
       "      <td>KISTI</td>\n",
       "      <td>2000</td>\n",
       "    </tr>\n",
       "    <tr>\n",
       "      <th>2</th>\n",
       "      <td>KISTEP</td>\n",
       "      <td>3000</td>\n",
       "    </tr>\n",
       "    <tr>\n",
       "      <th>3</th>\n",
       "      <td>NIA</td>\n",
       "      <td>4000</td>\n",
       "    </tr>\n",
       "    <tr>\n",
       "      <th>4</th>\n",
       "      <td>KDI</td>\n",
       "      <td>5000</td>\n",
       "    </tr>\n",
       "    <tr>\n",
       "      <th>5</th>\n",
       "      <td>STEPI</td>\n",
       "      <td>6000</td>\n",
       "    </tr>\n",
       "    <tr>\n",
       "      <th>6</th>\n",
       "      <td>KIET</td>\n",
       "      <td>7000</td>\n",
       "    </tr>\n",
       "    <tr>\n",
       "      <th>7</th>\n",
       "      <td>KISDI</td>\n",
       "      <td>8000</td>\n",
       "    </tr>\n",
       "    <tr>\n",
       "      <th>8</th>\n",
       "      <td>NIPA</td>\n",
       "      <td>9000</td>\n",
       "    </tr>\n",
       "  </tbody>\n",
       "</table>\n",
       "</div>"
      ],
      "text/plain": [
       "       기관    금액\n",
       "0     NRF  1000\n",
       "1   KISTI  2000\n",
       "2  KISTEP  3000\n",
       "3     NIA  4000\n",
       "4     KDI  5000\n",
       "5   STEPI  6000\n",
       "6    KIET  7000\n",
       "7   KISDI  8000\n",
       "8    NIPA  9000"
      ]
     },
     "execution_count": 122,
     "metadata": {},
     "output_type": "execute_result"
    }
   ],
   "source": [
    "df"
   ]
  },
  {
   "cell_type": "markdown",
   "metadata": {
    "hidden": true
   },
   "source": [
    "### 컬럼 순서 변경"
   ]
  },
  {
   "cell_type": "code",
   "execution_count": 124,
   "metadata": {
    "hidden": true
   },
   "outputs": [
    {
     "data": {
      "text/html": [
       "<div>\n",
       "<style scoped>\n",
       "    .dataframe tbody tr th:only-of-type {\n",
       "        vertical-align: middle;\n",
       "    }\n",
       "\n",
       "    .dataframe tbody tr th {\n",
       "        vertical-align: top;\n",
       "    }\n",
       "\n",
       "    .dataframe thead th {\n",
       "        text-align: right;\n",
       "    }\n",
       "</style>\n",
       "<table border=\"1\" class=\"dataframe\">\n",
       "  <thead>\n",
       "    <tr style=\"text-align: right;\">\n",
       "      <th></th>\n",
       "      <th>금액</th>\n",
       "      <th>기관</th>\n",
       "    </tr>\n",
       "  </thead>\n",
       "  <tbody>\n",
       "    <tr>\n",
       "      <th>0</th>\n",
       "      <td>1000</td>\n",
       "      <td>NRF</td>\n",
       "    </tr>\n",
       "    <tr>\n",
       "      <th>1</th>\n",
       "      <td>2000</td>\n",
       "      <td>KISTI</td>\n",
       "    </tr>\n",
       "    <tr>\n",
       "      <th>2</th>\n",
       "      <td>3000</td>\n",
       "      <td>KISTEP</td>\n",
       "    </tr>\n",
       "    <tr>\n",
       "      <th>3</th>\n",
       "      <td>4000</td>\n",
       "      <td>NIA</td>\n",
       "    </tr>\n",
       "    <tr>\n",
       "      <th>4</th>\n",
       "      <td>5000</td>\n",
       "      <td>KDI</td>\n",
       "    </tr>\n",
       "    <tr>\n",
       "      <th>5</th>\n",
       "      <td>6000</td>\n",
       "      <td>STEPI</td>\n",
       "    </tr>\n",
       "    <tr>\n",
       "      <th>6</th>\n",
       "      <td>7000</td>\n",
       "      <td>KIET</td>\n",
       "    </tr>\n",
       "    <tr>\n",
       "      <th>7</th>\n",
       "      <td>8000</td>\n",
       "      <td>KISDI</td>\n",
       "    </tr>\n",
       "    <tr>\n",
       "      <th>8</th>\n",
       "      <td>9000</td>\n",
       "      <td>NIPA</td>\n",
       "    </tr>\n",
       "  </tbody>\n",
       "</table>\n",
       "</div>"
      ],
      "text/plain": [
       "     금액      기관\n",
       "0  1000     NRF\n",
       "1  2000   KISTI\n",
       "2  3000  KISTEP\n",
       "3  4000     NIA\n",
       "4  5000     KDI\n",
       "5  6000   STEPI\n",
       "6  7000    KIET\n",
       "7  8000   KISDI\n",
       "8  9000    NIPA"
      ]
     },
     "execution_count": 124,
     "metadata": {},
     "output_type": "execute_result"
    }
   ],
   "source": [
    "df[['금액','기관']]"
   ]
  },
  {
   "cell_type": "markdown",
   "metadata": {
    "heading_collapsed": true,
    "hidden": true
   },
   "source": [
    "## missing data"
   ]
  },
  {
   "cell_type": "markdown",
   "metadata": {
    "heading_collapsed": true,
    "hidden": true
   },
   "source": [
    "### 예제 데이터 가져오기"
   ]
  },
  {
   "cell_type": "markdown",
   "metadata": {
    "hidden": true
   },
   "source": [
    "* 네이버 주식의 특정 종목 주가 데이터\n",
    "    * 삼성전자: https://finance.naver.com/item/sise_day.nhn?code=005930&page=1"
   ]
  },
  {
   "cell_type": "code",
   "execution_count": 134,
   "metadata": {
    "hidden": true
   },
   "outputs": [],
   "source": [
    "url = 'https://finance.naver.com/item/sise_day.nhn?code=005930&page=2'"
   ]
  },
  {
   "cell_type": "code",
   "execution_count": 135,
   "metadata": {
    "hidden": true
   },
   "outputs": [
    {
     "data": {
      "text/plain": [
       "[            날짜       종가     전일비       시가       고가       저가         거래량\n",
       " 0          NaN      NaN     NaN      NaN      NaN      NaN         NaN\n",
       " 1   2020.05.14  48000.0   550.0  47750.0  48100.0  47650.0  19305974.0\n",
       " 2   2020.05.13  48550.0   650.0  47250.0  48550.0  47200.0  20223277.0\n",
       " 3   2020.05.12  47900.0   500.0  48400.0  48500.0  47550.0  23433590.0\n",
       " 4   2020.05.11  48400.0   400.0  48900.0  49250.0  48300.0  16357743.0\n",
       " 5   2020.05.08  48800.0     0.0  49100.0  49350.0  48800.0  15319700.0\n",
       " 6          NaN      NaN     NaN      NaN      NaN      NaN         NaN\n",
       " 7          NaN      NaN     NaN      NaN      NaN      NaN         NaN\n",
       " 8          NaN      NaN     NaN      NaN      NaN      NaN         NaN\n",
       " 9   2020.05.07  48800.0   400.0  49200.0  49300.0  48700.0  13884411.0\n",
       " 10  2020.05.06  49200.0   700.0  49000.0  49200.0  48500.0  18070225.0\n",
       " 11  2020.05.04  48500.0  1500.0  48900.0  49100.0  48500.0  26083749.0\n",
       " 12  2020.04.29  50000.0   100.0  49900.0  50500.0  49600.0  15604533.0\n",
       " 13  2020.04.28  50100.0   250.0  49850.0  50100.0  49300.0  16095399.0\n",
       " 14         NaN      NaN     NaN      NaN      NaN      NaN         NaN,\n",
       "    0   1   2   3   4   5   6   7   8   9   10  11  12\n",
       " 0  맨앞   1   2   3   4   5   6   7   8   9  10  다음  맨뒤]"
      ]
     },
     "execution_count": 135,
     "metadata": {},
     "output_type": "execute_result"
    }
   ],
   "source": [
    "pd.read_html(url)"
   ]
  },
  {
   "cell_type": "code",
   "execution_count": 136,
   "metadata": {
    "hidden": true
   },
   "outputs": [
    {
     "data": {
      "text/html": [
       "<div>\n",
       "<style scoped>\n",
       "    .dataframe tbody tr th:only-of-type {\n",
       "        vertical-align: middle;\n",
       "    }\n",
       "\n",
       "    .dataframe tbody tr th {\n",
       "        vertical-align: top;\n",
       "    }\n",
       "\n",
       "    .dataframe thead th {\n",
       "        text-align: right;\n",
       "    }\n",
       "</style>\n",
       "<table border=\"1\" class=\"dataframe\">\n",
       "  <thead>\n",
       "    <tr style=\"text-align: right;\">\n",
       "      <th></th>\n",
       "      <th>날짜</th>\n",
       "      <th>종가</th>\n",
       "      <th>전일비</th>\n",
       "      <th>시가</th>\n",
       "      <th>고가</th>\n",
       "      <th>저가</th>\n",
       "      <th>거래량</th>\n",
       "    </tr>\n",
       "  </thead>\n",
       "  <tbody>\n",
       "    <tr>\n",
       "      <th>0</th>\n",
       "      <td>NaN</td>\n",
       "      <td>NaN</td>\n",
       "      <td>NaN</td>\n",
       "      <td>NaN</td>\n",
       "      <td>NaN</td>\n",
       "      <td>NaN</td>\n",
       "      <td>NaN</td>\n",
       "    </tr>\n",
       "    <tr>\n",
       "      <th>1</th>\n",
       "      <td>2020.05.14</td>\n",
       "      <td>48000.0</td>\n",
       "      <td>550.0</td>\n",
       "      <td>47750.0</td>\n",
       "      <td>48100.0</td>\n",
       "      <td>47650.0</td>\n",
       "      <td>19305974.0</td>\n",
       "    </tr>\n",
       "    <tr>\n",
       "      <th>2</th>\n",
       "      <td>2020.05.13</td>\n",
       "      <td>48550.0</td>\n",
       "      <td>650.0</td>\n",
       "      <td>47250.0</td>\n",
       "      <td>48550.0</td>\n",
       "      <td>47200.0</td>\n",
       "      <td>20223277.0</td>\n",
       "    </tr>\n",
       "    <tr>\n",
       "      <th>3</th>\n",
       "      <td>2020.05.12</td>\n",
       "      <td>47900.0</td>\n",
       "      <td>500.0</td>\n",
       "      <td>48400.0</td>\n",
       "      <td>48500.0</td>\n",
       "      <td>47550.0</td>\n",
       "      <td>23433590.0</td>\n",
       "    </tr>\n",
       "    <tr>\n",
       "      <th>4</th>\n",
       "      <td>2020.05.11</td>\n",
       "      <td>48400.0</td>\n",
       "      <td>400.0</td>\n",
       "      <td>48900.0</td>\n",
       "      <td>49250.0</td>\n",
       "      <td>48300.0</td>\n",
       "      <td>16357743.0</td>\n",
       "    </tr>\n",
       "    <tr>\n",
       "      <th>5</th>\n",
       "      <td>2020.05.08</td>\n",
       "      <td>48800.0</td>\n",
       "      <td>0.0</td>\n",
       "      <td>49100.0</td>\n",
       "      <td>49350.0</td>\n",
       "      <td>48800.0</td>\n",
       "      <td>15319700.0</td>\n",
       "    </tr>\n",
       "    <tr>\n",
       "      <th>6</th>\n",
       "      <td>NaN</td>\n",
       "      <td>NaN</td>\n",
       "      <td>NaN</td>\n",
       "      <td>NaN</td>\n",
       "      <td>NaN</td>\n",
       "      <td>NaN</td>\n",
       "      <td>NaN</td>\n",
       "    </tr>\n",
       "    <tr>\n",
       "      <th>7</th>\n",
       "      <td>NaN</td>\n",
       "      <td>NaN</td>\n",
       "      <td>NaN</td>\n",
       "      <td>NaN</td>\n",
       "      <td>NaN</td>\n",
       "      <td>NaN</td>\n",
       "      <td>NaN</td>\n",
       "    </tr>\n",
       "    <tr>\n",
       "      <th>8</th>\n",
       "      <td>NaN</td>\n",
       "      <td>NaN</td>\n",
       "      <td>NaN</td>\n",
       "      <td>NaN</td>\n",
       "      <td>NaN</td>\n",
       "      <td>NaN</td>\n",
       "      <td>NaN</td>\n",
       "    </tr>\n",
       "    <tr>\n",
       "      <th>9</th>\n",
       "      <td>2020.05.07</td>\n",
       "      <td>48800.0</td>\n",
       "      <td>400.0</td>\n",
       "      <td>49200.0</td>\n",
       "      <td>49300.0</td>\n",
       "      <td>48700.0</td>\n",
       "      <td>13884411.0</td>\n",
       "    </tr>\n",
       "    <tr>\n",
       "      <th>10</th>\n",
       "      <td>2020.05.06</td>\n",
       "      <td>49200.0</td>\n",
       "      <td>700.0</td>\n",
       "      <td>49000.0</td>\n",
       "      <td>49200.0</td>\n",
       "      <td>48500.0</td>\n",
       "      <td>18070225.0</td>\n",
       "    </tr>\n",
       "    <tr>\n",
       "      <th>11</th>\n",
       "      <td>2020.05.04</td>\n",
       "      <td>48500.0</td>\n",
       "      <td>1500.0</td>\n",
       "      <td>48900.0</td>\n",
       "      <td>49100.0</td>\n",
       "      <td>48500.0</td>\n",
       "      <td>26083749.0</td>\n",
       "    </tr>\n",
       "    <tr>\n",
       "      <th>12</th>\n",
       "      <td>2020.04.29</td>\n",
       "      <td>50000.0</td>\n",
       "      <td>100.0</td>\n",
       "      <td>49900.0</td>\n",
       "      <td>50500.0</td>\n",
       "      <td>49600.0</td>\n",
       "      <td>15604533.0</td>\n",
       "    </tr>\n",
       "    <tr>\n",
       "      <th>13</th>\n",
       "      <td>2020.04.28</td>\n",
       "      <td>50100.0</td>\n",
       "      <td>250.0</td>\n",
       "      <td>49850.0</td>\n",
       "      <td>50100.0</td>\n",
       "      <td>49300.0</td>\n",
       "      <td>16095399.0</td>\n",
       "    </tr>\n",
       "    <tr>\n",
       "      <th>14</th>\n",
       "      <td>NaN</td>\n",
       "      <td>NaN</td>\n",
       "      <td>NaN</td>\n",
       "      <td>NaN</td>\n",
       "      <td>NaN</td>\n",
       "      <td>NaN</td>\n",
       "      <td>NaN</td>\n",
       "    </tr>\n",
       "  </tbody>\n",
       "</table>\n",
       "</div>"
      ],
      "text/plain": [
       "            날짜       종가     전일비       시가       고가       저가         거래량\n",
       "0          NaN      NaN     NaN      NaN      NaN      NaN         NaN\n",
       "1   2020.05.14  48000.0   550.0  47750.0  48100.0  47650.0  19305974.0\n",
       "2   2020.05.13  48550.0   650.0  47250.0  48550.0  47200.0  20223277.0\n",
       "3   2020.05.12  47900.0   500.0  48400.0  48500.0  47550.0  23433590.0\n",
       "4   2020.05.11  48400.0   400.0  48900.0  49250.0  48300.0  16357743.0\n",
       "5   2020.05.08  48800.0     0.0  49100.0  49350.0  48800.0  15319700.0\n",
       "6          NaN      NaN     NaN      NaN      NaN      NaN         NaN\n",
       "7          NaN      NaN     NaN      NaN      NaN      NaN         NaN\n",
       "8          NaN      NaN     NaN      NaN      NaN      NaN         NaN\n",
       "9   2020.05.07  48800.0   400.0  49200.0  49300.0  48700.0  13884411.0\n",
       "10  2020.05.06  49200.0   700.0  49000.0  49200.0  48500.0  18070225.0\n",
       "11  2020.05.04  48500.0  1500.0  48900.0  49100.0  48500.0  26083749.0\n",
       "12  2020.04.29  50000.0   100.0  49900.0  50500.0  49600.0  15604533.0\n",
       "13  2020.04.28  50100.0   250.0  49850.0  50100.0  49300.0  16095399.0\n",
       "14         NaN      NaN     NaN      NaN      NaN      NaN         NaN"
      ]
     },
     "execution_count": 136,
     "metadata": {},
     "output_type": "execute_result"
    }
   ],
   "source": [
    "pd.read_html(url)[0]"
   ]
  },
  {
   "cell_type": "code",
   "execution_count": 137,
   "metadata": {
    "hidden": true
   },
   "outputs": [
    {
     "data": {
      "text/html": [
       "<div>\n",
       "<style scoped>\n",
       "    .dataframe tbody tr th:only-of-type {\n",
       "        vertical-align: middle;\n",
       "    }\n",
       "\n",
       "    .dataframe tbody tr th {\n",
       "        vertical-align: top;\n",
       "    }\n",
       "\n",
       "    .dataframe thead th {\n",
       "        text-align: right;\n",
       "    }\n",
       "</style>\n",
       "<table border=\"1\" class=\"dataframe\">\n",
       "  <thead>\n",
       "    <tr style=\"text-align: right;\">\n",
       "      <th></th>\n",
       "      <th>날짜</th>\n",
       "      <th>종가</th>\n",
       "      <th>전일비</th>\n",
       "      <th>시가</th>\n",
       "      <th>고가</th>\n",
       "      <th>저가</th>\n",
       "      <th>거래량</th>\n",
       "    </tr>\n",
       "  </thead>\n",
       "  <tbody>\n",
       "    <tr>\n",
       "      <th>1</th>\n",
       "      <td>2020.05.14</td>\n",
       "      <td>48000.0</td>\n",
       "      <td>550.0</td>\n",
       "      <td>47750.0</td>\n",
       "      <td>48100.0</td>\n",
       "      <td>47650.0</td>\n",
       "      <td>19305974.0</td>\n",
       "    </tr>\n",
       "    <tr>\n",
       "      <th>2</th>\n",
       "      <td>2020.05.13</td>\n",
       "      <td>48550.0</td>\n",
       "      <td>650.0</td>\n",
       "      <td>47250.0</td>\n",
       "      <td>48550.0</td>\n",
       "      <td>47200.0</td>\n",
       "      <td>20223277.0</td>\n",
       "    </tr>\n",
       "    <tr>\n",
       "      <th>3</th>\n",
       "      <td>2020.05.12</td>\n",
       "      <td>47900.0</td>\n",
       "      <td>500.0</td>\n",
       "      <td>48400.0</td>\n",
       "      <td>48500.0</td>\n",
       "      <td>47550.0</td>\n",
       "      <td>23433590.0</td>\n",
       "    </tr>\n",
       "    <tr>\n",
       "      <th>4</th>\n",
       "      <td>2020.05.11</td>\n",
       "      <td>48400.0</td>\n",
       "      <td>400.0</td>\n",
       "      <td>48900.0</td>\n",
       "      <td>49250.0</td>\n",
       "      <td>48300.0</td>\n",
       "      <td>16357743.0</td>\n",
       "    </tr>\n",
       "    <tr>\n",
       "      <th>5</th>\n",
       "      <td>2020.05.08</td>\n",
       "      <td>48800.0</td>\n",
       "      <td>0.0</td>\n",
       "      <td>49100.0</td>\n",
       "      <td>49350.0</td>\n",
       "      <td>48800.0</td>\n",
       "      <td>15319700.0</td>\n",
       "    </tr>\n",
       "    <tr>\n",
       "      <th>9</th>\n",
       "      <td>2020.05.07</td>\n",
       "      <td>48800.0</td>\n",
       "      <td>400.0</td>\n",
       "      <td>49200.0</td>\n",
       "      <td>49300.0</td>\n",
       "      <td>48700.0</td>\n",
       "      <td>13884411.0</td>\n",
       "    </tr>\n",
       "    <tr>\n",
       "      <th>10</th>\n",
       "      <td>2020.05.06</td>\n",
       "      <td>49200.0</td>\n",
       "      <td>700.0</td>\n",
       "      <td>49000.0</td>\n",
       "      <td>49200.0</td>\n",
       "      <td>48500.0</td>\n",
       "      <td>18070225.0</td>\n",
       "    </tr>\n",
       "    <tr>\n",
       "      <th>11</th>\n",
       "      <td>2020.05.04</td>\n",
       "      <td>48500.0</td>\n",
       "      <td>1500.0</td>\n",
       "      <td>48900.0</td>\n",
       "      <td>49100.0</td>\n",
       "      <td>48500.0</td>\n",
       "      <td>26083749.0</td>\n",
       "    </tr>\n",
       "    <tr>\n",
       "      <th>12</th>\n",
       "      <td>2020.04.29</td>\n",
       "      <td>50000.0</td>\n",
       "      <td>100.0</td>\n",
       "      <td>49900.0</td>\n",
       "      <td>50500.0</td>\n",
       "      <td>49600.0</td>\n",
       "      <td>15604533.0</td>\n",
       "    </tr>\n",
       "    <tr>\n",
       "      <th>13</th>\n",
       "      <td>2020.04.28</td>\n",
       "      <td>50100.0</td>\n",
       "      <td>250.0</td>\n",
       "      <td>49850.0</td>\n",
       "      <td>50100.0</td>\n",
       "      <td>49300.0</td>\n",
       "      <td>16095399.0</td>\n",
       "    </tr>\n",
       "  </tbody>\n",
       "</table>\n",
       "</div>"
      ],
      "text/plain": [
       "            날짜       종가     전일비       시가       고가       저가         거래량\n",
       "1   2020.05.14  48000.0   550.0  47750.0  48100.0  47650.0  19305974.0\n",
       "2   2020.05.13  48550.0   650.0  47250.0  48550.0  47200.0  20223277.0\n",
       "3   2020.05.12  47900.0   500.0  48400.0  48500.0  47550.0  23433590.0\n",
       "4   2020.05.11  48400.0   400.0  48900.0  49250.0  48300.0  16357743.0\n",
       "5   2020.05.08  48800.0     0.0  49100.0  49350.0  48800.0  15319700.0\n",
       "9   2020.05.07  48800.0   400.0  49200.0  49300.0  48700.0  13884411.0\n",
       "10  2020.05.06  49200.0   700.0  49000.0  49200.0  48500.0  18070225.0\n",
       "11  2020.05.04  48500.0  1500.0  48900.0  49100.0  48500.0  26083749.0\n",
       "12  2020.04.29  50000.0   100.0  49900.0  50500.0  49600.0  15604533.0\n",
       "13  2020.04.28  50100.0   250.0  49850.0  50100.0  49300.0  16095399.0"
      ]
     },
     "execution_count": 137,
     "metadata": {},
     "output_type": "execute_result"
    }
   ],
   "source": [
    "pd.read_html(url)[0].dropna()"
   ]
  },
  {
   "cell_type": "code",
   "execution_count": 141,
   "metadata": {
    "hidden": true
   },
   "outputs": [],
   "source": [
    "ss_stock = pd.DataFrame()\n",
    "for x in range(1,10):\n",
    "    ticker = pd.read_html('https://finance.naver.com/item/sise_day.nhn?code=005930&page={}'.format(x))[0]\n",
    "#     ticker = ticker.dropna()\n",
    "    ss_stock = ss_stock.append(ticker)"
   ]
  },
  {
   "cell_type": "code",
   "execution_count": 144,
   "metadata": {
    "hidden": true
   },
   "outputs": [
    {
     "data": {
      "text/html": [
       "<div>\n",
       "<style scoped>\n",
       "    .dataframe tbody tr th:only-of-type {\n",
       "        vertical-align: middle;\n",
       "    }\n",
       "\n",
       "    .dataframe tbody tr th {\n",
       "        vertical-align: top;\n",
       "    }\n",
       "\n",
       "    .dataframe thead th {\n",
       "        text-align: right;\n",
       "    }\n",
       "</style>\n",
       "<table border=\"1\" class=\"dataframe\">\n",
       "  <thead>\n",
       "    <tr style=\"text-align: right;\">\n",
       "      <th></th>\n",
       "      <th>날짜</th>\n",
       "      <th>종가</th>\n",
       "      <th>전일비</th>\n",
       "      <th>시가</th>\n",
       "      <th>고가</th>\n",
       "      <th>저가</th>\n",
       "      <th>거래량</th>\n",
       "    </tr>\n",
       "  </thead>\n",
       "  <tbody>\n",
       "    <tr>\n",
       "      <th>0</th>\n",
       "      <td>NaN</td>\n",
       "      <td>NaN</td>\n",
       "      <td>NaN</td>\n",
       "      <td>NaN</td>\n",
       "      <td>NaN</td>\n",
       "      <td>NaN</td>\n",
       "      <td>NaN</td>\n",
       "    </tr>\n",
       "    <tr>\n",
       "      <th>1</th>\n",
       "      <td>2020.05.28</td>\n",
       "      <td>50000.0</td>\n",
       "      <td>100.0</td>\n",
       "      <td>51100.0</td>\n",
       "      <td>51200.0</td>\n",
       "      <td>49900.0</td>\n",
       "      <td>22379675.0</td>\n",
       "    </tr>\n",
       "    <tr>\n",
       "      <th>2</th>\n",
       "      <td>2020.05.27</td>\n",
       "      <td>49900.0</td>\n",
       "      <td>650.0</td>\n",
       "      <td>48950.0</td>\n",
       "      <td>50000.0</td>\n",
       "      <td>48800.0</td>\n",
       "      <td>19548479.0</td>\n",
       "    </tr>\n",
       "    <tr>\n",
       "      <th>3</th>\n",
       "      <td>2020.05.26</td>\n",
       "      <td>49250.0</td>\n",
       "      <td>400.0</td>\n",
       "      <td>48700.0</td>\n",
       "      <td>49450.0</td>\n",
       "      <td>48600.0</td>\n",
       "      <td>15127490.0</td>\n",
       "    </tr>\n",
       "    <tr>\n",
       "      <th>4</th>\n",
       "      <td>2020.05.25</td>\n",
       "      <td>48850.0</td>\n",
       "      <td>100.0</td>\n",
       "      <td>48750.0</td>\n",
       "      <td>48900.0</td>\n",
       "      <td>48450.0</td>\n",
       "      <td>14337913.0</td>\n",
       "    </tr>\n",
       "    <tr>\n",
       "      <th>5</th>\n",
       "      <td>2020.05.22</td>\n",
       "      <td>48750.0</td>\n",
       "      <td>1200.0</td>\n",
       "      <td>49600.0</td>\n",
       "      <td>49800.0</td>\n",
       "      <td>48600.0</td>\n",
       "      <td>19706284.0</td>\n",
       "    </tr>\n",
       "    <tr>\n",
       "      <th>6</th>\n",
       "      <td>NaN</td>\n",
       "      <td>NaN</td>\n",
       "      <td>NaN</td>\n",
       "      <td>NaN</td>\n",
       "      <td>NaN</td>\n",
       "      <td>NaN</td>\n",
       "      <td>NaN</td>\n",
       "    </tr>\n",
       "    <tr>\n",
       "      <th>7</th>\n",
       "      <td>NaN</td>\n",
       "      <td>NaN</td>\n",
       "      <td>NaN</td>\n",
       "      <td>NaN</td>\n",
       "      <td>NaN</td>\n",
       "      <td>NaN</td>\n",
       "      <td>NaN</td>\n",
       "    </tr>\n",
       "    <tr>\n",
       "      <th>8</th>\n",
       "      <td>NaN</td>\n",
       "      <td>NaN</td>\n",
       "      <td>NaN</td>\n",
       "      <td>NaN</td>\n",
       "      <td>NaN</td>\n",
       "      <td>NaN</td>\n",
       "      <td>NaN</td>\n",
       "    </tr>\n",
       "    <tr>\n",
       "      <th>9</th>\n",
       "      <td>2020.05.21</td>\n",
       "      <td>49950.0</td>\n",
       "      <td>50.0</td>\n",
       "      <td>50300.0</td>\n",
       "      <td>50400.0</td>\n",
       "      <td>49850.0</td>\n",
       "      <td>14949266.0</td>\n",
       "    </tr>\n",
       "    <tr>\n",
       "      <th>10</th>\n",
       "      <td>2020.05.20</td>\n",
       "      <td>50000.0</td>\n",
       "      <td>300.0</td>\n",
       "      <td>50000.0</td>\n",
       "      <td>50200.0</td>\n",
       "      <td>49800.0</td>\n",
       "      <td>14896899.0</td>\n",
       "    </tr>\n",
       "    <tr>\n",
       "      <th>11</th>\n",
       "      <td>2020.05.19</td>\n",
       "      <td>50300.0</td>\n",
       "      <td>1500.0</td>\n",
       "      <td>50100.0</td>\n",
       "      <td>50500.0</td>\n",
       "      <td>49700.0</td>\n",
       "      <td>25168295.0</td>\n",
       "    </tr>\n",
       "    <tr>\n",
       "      <th>12</th>\n",
       "      <td>2020.05.18</td>\n",
       "      <td>48800.0</td>\n",
       "      <td>950.0</td>\n",
       "      <td>47950.0</td>\n",
       "      <td>49100.0</td>\n",
       "      <td>47600.0</td>\n",
       "      <td>20481981.0</td>\n",
       "    </tr>\n",
       "    <tr>\n",
       "      <th>13</th>\n",
       "      <td>2020.05.15</td>\n",
       "      <td>47850.0</td>\n",
       "      <td>150.0</td>\n",
       "      <td>48400.0</td>\n",
       "      <td>48450.0</td>\n",
       "      <td>47700.0</td>\n",
       "      <td>18463118.0</td>\n",
       "    </tr>\n",
       "    <tr>\n",
       "      <th>14</th>\n",
       "      <td>NaN</td>\n",
       "      <td>NaN</td>\n",
       "      <td>NaN</td>\n",
       "      <td>NaN</td>\n",
       "      <td>NaN</td>\n",
       "      <td>NaN</td>\n",
       "      <td>NaN</td>\n",
       "    </tr>\n",
       "    <tr>\n",
       "      <th>0</th>\n",
       "      <td>NaN</td>\n",
       "      <td>NaN</td>\n",
       "      <td>NaN</td>\n",
       "      <td>NaN</td>\n",
       "      <td>NaN</td>\n",
       "      <td>NaN</td>\n",
       "      <td>NaN</td>\n",
       "    </tr>\n",
       "    <tr>\n",
       "      <th>1</th>\n",
       "      <td>2020.05.14</td>\n",
       "      <td>48000.0</td>\n",
       "      <td>550.0</td>\n",
       "      <td>47750.0</td>\n",
       "      <td>48100.0</td>\n",
       "      <td>47650.0</td>\n",
       "      <td>19305974.0</td>\n",
       "    </tr>\n",
       "    <tr>\n",
       "      <th>2</th>\n",
       "      <td>2020.05.13</td>\n",
       "      <td>48550.0</td>\n",
       "      <td>650.0</td>\n",
       "      <td>47250.0</td>\n",
       "      <td>48550.0</td>\n",
       "      <td>47200.0</td>\n",
       "      <td>20223277.0</td>\n",
       "    </tr>\n",
       "    <tr>\n",
       "      <th>3</th>\n",
       "      <td>2020.05.12</td>\n",
       "      <td>47900.0</td>\n",
       "      <td>500.0</td>\n",
       "      <td>48400.0</td>\n",
       "      <td>48500.0</td>\n",
       "      <td>47550.0</td>\n",
       "      <td>23433590.0</td>\n",
       "    </tr>\n",
       "    <tr>\n",
       "      <th>4</th>\n",
       "      <td>2020.05.11</td>\n",
       "      <td>48400.0</td>\n",
       "      <td>400.0</td>\n",
       "      <td>48900.0</td>\n",
       "      <td>49250.0</td>\n",
       "      <td>48300.0</td>\n",
       "      <td>16357743.0</td>\n",
       "    </tr>\n",
       "  </tbody>\n",
       "</table>\n",
       "</div>"
      ],
      "text/plain": [
       "            날짜       종가     전일비       시가       고가       저가         거래량\n",
       "0          NaN      NaN     NaN      NaN      NaN      NaN         NaN\n",
       "1   2020.05.28  50000.0   100.0  51100.0  51200.0  49900.0  22379675.0\n",
       "2   2020.05.27  49900.0   650.0  48950.0  50000.0  48800.0  19548479.0\n",
       "3   2020.05.26  49250.0   400.0  48700.0  49450.0  48600.0  15127490.0\n",
       "4   2020.05.25  48850.0   100.0  48750.0  48900.0  48450.0  14337913.0\n",
       "5   2020.05.22  48750.0  1200.0  49600.0  49800.0  48600.0  19706284.0\n",
       "6          NaN      NaN     NaN      NaN      NaN      NaN         NaN\n",
       "7          NaN      NaN     NaN      NaN      NaN      NaN         NaN\n",
       "8          NaN      NaN     NaN      NaN      NaN      NaN         NaN\n",
       "9   2020.05.21  49950.0    50.0  50300.0  50400.0  49850.0  14949266.0\n",
       "10  2020.05.20  50000.0   300.0  50000.0  50200.0  49800.0  14896899.0\n",
       "11  2020.05.19  50300.0  1500.0  50100.0  50500.0  49700.0  25168295.0\n",
       "12  2020.05.18  48800.0   950.0  47950.0  49100.0  47600.0  20481981.0\n",
       "13  2020.05.15  47850.0   150.0  48400.0  48450.0  47700.0  18463118.0\n",
       "14         NaN      NaN     NaN      NaN      NaN      NaN         NaN\n",
       "0          NaN      NaN     NaN      NaN      NaN      NaN         NaN\n",
       "1   2020.05.14  48000.0   550.0  47750.0  48100.0  47650.0  19305974.0\n",
       "2   2020.05.13  48550.0   650.0  47250.0  48550.0  47200.0  20223277.0\n",
       "3   2020.05.12  47900.0   500.0  48400.0  48500.0  47550.0  23433590.0\n",
       "4   2020.05.11  48400.0   400.0  48900.0  49250.0  48300.0  16357743.0"
      ]
     },
     "execution_count": 144,
     "metadata": {},
     "output_type": "execute_result"
    }
   ],
   "source": [
    "ss_stock.head(20)"
   ]
  },
  {
   "cell_type": "markdown",
   "metadata": {
    "hidden": true
   },
   "source": [
    "### 결측치 확인"
   ]
  },
  {
   "cell_type": "code",
   "execution_count": 148,
   "metadata": {
    "hidden": true
   },
   "outputs": [
    {
     "data": {
      "text/plain": [
       "날짜     6\n",
       "종가     6\n",
       "전일비    6\n",
       "시가     6\n",
       "고가     6\n",
       "저가     6\n",
       "거래량    6\n",
       "dtype: int64"
      ]
     },
     "execution_count": 148,
     "metadata": {},
     "output_type": "execute_result"
    }
   ],
   "source": [
    "ss_stock.head(20).isnull().sum()"
   ]
  },
  {
   "cell_type": "markdown",
   "metadata": {
    "hidden": true
   },
   "source": [
    "### 결측치 처리"
   ]
  },
  {
   "cell_type": "code",
   "execution_count": 160,
   "metadata": {
    "hidden": true
   },
   "outputs": [
    {
     "data": {
      "text/html": [
       "<div>\n",
       "<style scoped>\n",
       "    .dataframe tbody tr th:only-of-type {\n",
       "        vertical-align: middle;\n",
       "    }\n",
       "\n",
       "    .dataframe tbody tr th {\n",
       "        vertical-align: top;\n",
       "    }\n",
       "\n",
       "    .dataframe thead th {\n",
       "        text-align: right;\n",
       "    }\n",
       "</style>\n",
       "<table border=\"1\" class=\"dataframe\">\n",
       "  <thead>\n",
       "    <tr style=\"text-align: right;\">\n",
       "      <th></th>\n",
       "      <th>날짜</th>\n",
       "      <th>종가</th>\n",
       "      <th>전일비</th>\n",
       "      <th>시가</th>\n",
       "      <th>고가</th>\n",
       "      <th>저가</th>\n",
       "      <th>거래량</th>\n",
       "    </tr>\n",
       "  </thead>\n",
       "  <tbody>\n",
       "    <tr>\n",
       "      <th>1</th>\n",
       "      <td>2020.05.28</td>\n",
       "      <td>50000.0</td>\n",
       "      <td>100.0</td>\n",
       "      <td>51100.0</td>\n",
       "      <td>51200.0</td>\n",
       "      <td>49900.0</td>\n",
       "      <td>22379675.0</td>\n",
       "    </tr>\n",
       "    <tr>\n",
       "      <th>2</th>\n",
       "      <td>2020.05.27</td>\n",
       "      <td>49900.0</td>\n",
       "      <td>650.0</td>\n",
       "      <td>48950.0</td>\n",
       "      <td>50000.0</td>\n",
       "      <td>48800.0</td>\n",
       "      <td>19548479.0</td>\n",
       "    </tr>\n",
       "    <tr>\n",
       "      <th>3</th>\n",
       "      <td>2020.05.26</td>\n",
       "      <td>49250.0</td>\n",
       "      <td>400.0</td>\n",
       "      <td>48700.0</td>\n",
       "      <td>49450.0</td>\n",
       "      <td>48600.0</td>\n",
       "      <td>15127490.0</td>\n",
       "    </tr>\n",
       "    <tr>\n",
       "      <th>4</th>\n",
       "      <td>2020.05.25</td>\n",
       "      <td>48850.0</td>\n",
       "      <td>100.0</td>\n",
       "      <td>48750.0</td>\n",
       "      <td>48900.0</td>\n",
       "      <td>48450.0</td>\n",
       "      <td>14337913.0</td>\n",
       "    </tr>\n",
       "    <tr>\n",
       "      <th>5</th>\n",
       "      <td>2020.05.22</td>\n",
       "      <td>48750.0</td>\n",
       "      <td>1200.0</td>\n",
       "      <td>49600.0</td>\n",
       "      <td>49800.0</td>\n",
       "      <td>48600.0</td>\n",
       "      <td>19706284.0</td>\n",
       "    </tr>\n",
       "    <tr>\n",
       "      <th>9</th>\n",
       "      <td>2020.05.21</td>\n",
       "      <td>49950.0</td>\n",
       "      <td>50.0</td>\n",
       "      <td>50300.0</td>\n",
       "      <td>50400.0</td>\n",
       "      <td>49850.0</td>\n",
       "      <td>14949266.0</td>\n",
       "    </tr>\n",
       "    <tr>\n",
       "      <th>10</th>\n",
       "      <td>2020.05.20</td>\n",
       "      <td>50000.0</td>\n",
       "      <td>300.0</td>\n",
       "      <td>50000.0</td>\n",
       "      <td>50200.0</td>\n",
       "      <td>49800.0</td>\n",
       "      <td>14896899.0</td>\n",
       "    </tr>\n",
       "    <tr>\n",
       "      <th>11</th>\n",
       "      <td>2020.05.19</td>\n",
       "      <td>50300.0</td>\n",
       "      <td>1500.0</td>\n",
       "      <td>50100.0</td>\n",
       "      <td>50500.0</td>\n",
       "      <td>49700.0</td>\n",
       "      <td>25168295.0</td>\n",
       "    </tr>\n",
       "    <tr>\n",
       "      <th>12</th>\n",
       "      <td>2020.05.18</td>\n",
       "      <td>48800.0</td>\n",
       "      <td>950.0</td>\n",
       "      <td>47950.0</td>\n",
       "      <td>49100.0</td>\n",
       "      <td>47600.0</td>\n",
       "      <td>20481981.0</td>\n",
       "    </tr>\n",
       "    <tr>\n",
       "      <th>13</th>\n",
       "      <td>2020.05.15</td>\n",
       "      <td>47850.0</td>\n",
       "      <td>150.0</td>\n",
       "      <td>48400.0</td>\n",
       "      <td>48450.0</td>\n",
       "      <td>47700.0</td>\n",
       "      <td>18463118.0</td>\n",
       "    </tr>\n",
       "    <tr>\n",
       "      <th>1</th>\n",
       "      <td>2020.05.14</td>\n",
       "      <td>48000.0</td>\n",
       "      <td>550.0</td>\n",
       "      <td>47750.0</td>\n",
       "      <td>48100.0</td>\n",
       "      <td>47650.0</td>\n",
       "      <td>19305974.0</td>\n",
       "    </tr>\n",
       "    <tr>\n",
       "      <th>2</th>\n",
       "      <td>2020.05.13</td>\n",
       "      <td>48550.0</td>\n",
       "      <td>650.0</td>\n",
       "      <td>47250.0</td>\n",
       "      <td>48550.0</td>\n",
       "      <td>47200.0</td>\n",
       "      <td>20223277.0</td>\n",
       "    </tr>\n",
       "    <tr>\n",
       "      <th>3</th>\n",
       "      <td>2020.05.12</td>\n",
       "      <td>47900.0</td>\n",
       "      <td>500.0</td>\n",
       "      <td>48400.0</td>\n",
       "      <td>48500.0</td>\n",
       "      <td>47550.0</td>\n",
       "      <td>23433590.0</td>\n",
       "    </tr>\n",
       "    <tr>\n",
       "      <th>4</th>\n",
       "      <td>2020.05.11</td>\n",
       "      <td>48400.0</td>\n",
       "      <td>400.0</td>\n",
       "      <td>48900.0</td>\n",
       "      <td>49250.0</td>\n",
       "      <td>48300.0</td>\n",
       "      <td>16357743.0</td>\n",
       "    </tr>\n",
       "  </tbody>\n",
       "</table>\n",
       "</div>"
      ],
      "text/plain": [
       "            날짜       종가     전일비       시가       고가       저가         거래량\n",
       "1   2020.05.28  50000.0   100.0  51100.0  51200.0  49900.0  22379675.0\n",
       "2   2020.05.27  49900.0   650.0  48950.0  50000.0  48800.0  19548479.0\n",
       "3   2020.05.26  49250.0   400.0  48700.0  49450.0  48600.0  15127490.0\n",
       "4   2020.05.25  48850.0   100.0  48750.0  48900.0  48450.0  14337913.0\n",
       "5   2020.05.22  48750.0  1200.0  49600.0  49800.0  48600.0  19706284.0\n",
       "9   2020.05.21  49950.0    50.0  50300.0  50400.0  49850.0  14949266.0\n",
       "10  2020.05.20  50000.0   300.0  50000.0  50200.0  49800.0  14896899.0\n",
       "11  2020.05.19  50300.0  1500.0  50100.0  50500.0  49700.0  25168295.0\n",
       "12  2020.05.18  48800.0   950.0  47950.0  49100.0  47600.0  20481981.0\n",
       "13  2020.05.15  47850.0   150.0  48400.0  48450.0  47700.0  18463118.0\n",
       "1   2020.05.14  48000.0   550.0  47750.0  48100.0  47650.0  19305974.0\n",
       "2   2020.05.13  48550.0   650.0  47250.0  48550.0  47200.0  20223277.0\n",
       "3   2020.05.12  47900.0   500.0  48400.0  48500.0  47550.0  23433590.0\n",
       "4   2020.05.11  48400.0   400.0  48900.0  49250.0  48300.0  16357743.0"
      ]
     },
     "execution_count": 160,
     "metadata": {},
     "output_type": "execute_result"
    }
   ],
   "source": [
    "ss_stock.head(20).dropna()"
   ]
  },
  {
   "cell_type": "code",
   "execution_count": 161,
   "metadata": {
    "hidden": true
   },
   "outputs": [],
   "source": [
    "ss_stock = ss_stock.dropna()"
   ]
  },
  {
   "cell_type": "code",
   "execution_count": 163,
   "metadata": {
    "hidden": true
   },
   "outputs": [
    {
     "data": {
      "text/html": [
       "<div>\n",
       "<style scoped>\n",
       "    .dataframe tbody tr th:only-of-type {\n",
       "        vertical-align: middle;\n",
       "    }\n",
       "\n",
       "    .dataframe tbody tr th {\n",
       "        vertical-align: top;\n",
       "    }\n",
       "\n",
       "    .dataframe thead th {\n",
       "        text-align: right;\n",
       "    }\n",
       "</style>\n",
       "<table border=\"1\" class=\"dataframe\">\n",
       "  <thead>\n",
       "    <tr style=\"text-align: right;\">\n",
       "      <th></th>\n",
       "      <th>날짜</th>\n",
       "      <th>종가</th>\n",
       "      <th>전일비</th>\n",
       "      <th>시가</th>\n",
       "      <th>고가</th>\n",
       "      <th>저가</th>\n",
       "      <th>거래량</th>\n",
       "    </tr>\n",
       "  </thead>\n",
       "  <tbody>\n",
       "    <tr>\n",
       "      <th>1</th>\n",
       "      <td>2020.05.28</td>\n",
       "      <td>50000.0</td>\n",
       "      <td>100.0</td>\n",
       "      <td>51100.0</td>\n",
       "      <td>51200.0</td>\n",
       "      <td>49900.0</td>\n",
       "      <td>22379675.0</td>\n",
       "    </tr>\n",
       "    <tr>\n",
       "      <th>2</th>\n",
       "      <td>2020.05.27</td>\n",
       "      <td>49900.0</td>\n",
       "      <td>650.0</td>\n",
       "      <td>48950.0</td>\n",
       "      <td>50000.0</td>\n",
       "      <td>48800.0</td>\n",
       "      <td>19548479.0</td>\n",
       "    </tr>\n",
       "    <tr>\n",
       "      <th>3</th>\n",
       "      <td>2020.05.26</td>\n",
       "      <td>49250.0</td>\n",
       "      <td>400.0</td>\n",
       "      <td>48700.0</td>\n",
       "      <td>49450.0</td>\n",
       "      <td>48600.0</td>\n",
       "      <td>15127490.0</td>\n",
       "    </tr>\n",
       "    <tr>\n",
       "      <th>4</th>\n",
       "      <td>2020.05.25</td>\n",
       "      <td>48850.0</td>\n",
       "      <td>100.0</td>\n",
       "      <td>48750.0</td>\n",
       "      <td>48900.0</td>\n",
       "      <td>48450.0</td>\n",
       "      <td>14337913.0</td>\n",
       "    </tr>\n",
       "    <tr>\n",
       "      <th>5</th>\n",
       "      <td>2020.05.22</td>\n",
       "      <td>48750.0</td>\n",
       "      <td>1200.0</td>\n",
       "      <td>49600.0</td>\n",
       "      <td>49800.0</td>\n",
       "      <td>48600.0</td>\n",
       "      <td>19706284.0</td>\n",
       "    </tr>\n",
       "    <tr>\n",
       "      <th>9</th>\n",
       "      <td>2020.05.21</td>\n",
       "      <td>49950.0</td>\n",
       "      <td>50.0</td>\n",
       "      <td>50300.0</td>\n",
       "      <td>50400.0</td>\n",
       "      <td>49850.0</td>\n",
       "      <td>14949266.0</td>\n",
       "    </tr>\n",
       "    <tr>\n",
       "      <th>10</th>\n",
       "      <td>2020.05.20</td>\n",
       "      <td>50000.0</td>\n",
       "      <td>300.0</td>\n",
       "      <td>50000.0</td>\n",
       "      <td>50200.0</td>\n",
       "      <td>49800.0</td>\n",
       "      <td>14896899.0</td>\n",
       "    </tr>\n",
       "    <tr>\n",
       "      <th>11</th>\n",
       "      <td>2020.05.19</td>\n",
       "      <td>50300.0</td>\n",
       "      <td>1500.0</td>\n",
       "      <td>50100.0</td>\n",
       "      <td>50500.0</td>\n",
       "      <td>49700.0</td>\n",
       "      <td>25168295.0</td>\n",
       "    </tr>\n",
       "    <tr>\n",
       "      <th>12</th>\n",
       "      <td>2020.05.18</td>\n",
       "      <td>48800.0</td>\n",
       "      <td>950.0</td>\n",
       "      <td>47950.0</td>\n",
       "      <td>49100.0</td>\n",
       "      <td>47600.0</td>\n",
       "      <td>20481981.0</td>\n",
       "    </tr>\n",
       "    <tr>\n",
       "      <th>13</th>\n",
       "      <td>2020.05.15</td>\n",
       "      <td>47850.0</td>\n",
       "      <td>150.0</td>\n",
       "      <td>48400.0</td>\n",
       "      <td>48450.0</td>\n",
       "      <td>47700.0</td>\n",
       "      <td>18463118.0</td>\n",
       "    </tr>\n",
       "    <tr>\n",
       "      <th>1</th>\n",
       "      <td>2020.05.14</td>\n",
       "      <td>48000.0</td>\n",
       "      <td>550.0</td>\n",
       "      <td>47750.0</td>\n",
       "      <td>48100.0</td>\n",
       "      <td>47650.0</td>\n",
       "      <td>19305974.0</td>\n",
       "    </tr>\n",
       "    <tr>\n",
       "      <th>2</th>\n",
       "      <td>2020.05.13</td>\n",
       "      <td>48550.0</td>\n",
       "      <td>650.0</td>\n",
       "      <td>47250.0</td>\n",
       "      <td>48550.0</td>\n",
       "      <td>47200.0</td>\n",
       "      <td>20223277.0</td>\n",
       "    </tr>\n",
       "    <tr>\n",
       "      <th>3</th>\n",
       "      <td>2020.05.12</td>\n",
       "      <td>47900.0</td>\n",
       "      <td>500.0</td>\n",
       "      <td>48400.0</td>\n",
       "      <td>48500.0</td>\n",
       "      <td>47550.0</td>\n",
       "      <td>23433590.0</td>\n",
       "    </tr>\n",
       "    <tr>\n",
       "      <th>4</th>\n",
       "      <td>2020.05.11</td>\n",
       "      <td>48400.0</td>\n",
       "      <td>400.0</td>\n",
       "      <td>48900.0</td>\n",
       "      <td>49250.0</td>\n",
       "      <td>48300.0</td>\n",
       "      <td>16357743.0</td>\n",
       "    </tr>\n",
       "    <tr>\n",
       "      <th>5</th>\n",
       "      <td>2020.05.08</td>\n",
       "      <td>48800.0</td>\n",
       "      <td>0.0</td>\n",
       "      <td>49100.0</td>\n",
       "      <td>49350.0</td>\n",
       "      <td>48800.0</td>\n",
       "      <td>15319700.0</td>\n",
       "    </tr>\n",
       "    <tr>\n",
       "      <th>9</th>\n",
       "      <td>2020.05.07</td>\n",
       "      <td>48800.0</td>\n",
       "      <td>400.0</td>\n",
       "      <td>49200.0</td>\n",
       "      <td>49300.0</td>\n",
       "      <td>48700.0</td>\n",
       "      <td>13884411.0</td>\n",
       "    </tr>\n",
       "    <tr>\n",
       "      <th>10</th>\n",
       "      <td>2020.05.06</td>\n",
       "      <td>49200.0</td>\n",
       "      <td>700.0</td>\n",
       "      <td>49000.0</td>\n",
       "      <td>49200.0</td>\n",
       "      <td>48500.0</td>\n",
       "      <td>18070225.0</td>\n",
       "    </tr>\n",
       "    <tr>\n",
       "      <th>11</th>\n",
       "      <td>2020.05.04</td>\n",
       "      <td>48500.0</td>\n",
       "      <td>1500.0</td>\n",
       "      <td>48900.0</td>\n",
       "      <td>49100.0</td>\n",
       "      <td>48500.0</td>\n",
       "      <td>26083749.0</td>\n",
       "    </tr>\n",
       "    <tr>\n",
       "      <th>12</th>\n",
       "      <td>2020.04.29</td>\n",
       "      <td>50000.0</td>\n",
       "      <td>100.0</td>\n",
       "      <td>49900.0</td>\n",
       "      <td>50500.0</td>\n",
       "      <td>49600.0</td>\n",
       "      <td>15604533.0</td>\n",
       "    </tr>\n",
       "    <tr>\n",
       "      <th>13</th>\n",
       "      <td>2020.04.28</td>\n",
       "      <td>50100.0</td>\n",
       "      <td>250.0</td>\n",
       "      <td>49850.0</td>\n",
       "      <td>50100.0</td>\n",
       "      <td>49300.0</td>\n",
       "      <td>16095399.0</td>\n",
       "    </tr>\n",
       "  </tbody>\n",
       "</table>\n",
       "</div>"
      ],
      "text/plain": [
       "            날짜       종가     전일비       시가       고가       저가         거래량\n",
       "1   2020.05.28  50000.0   100.0  51100.0  51200.0  49900.0  22379675.0\n",
       "2   2020.05.27  49900.0   650.0  48950.0  50000.0  48800.0  19548479.0\n",
       "3   2020.05.26  49250.0   400.0  48700.0  49450.0  48600.0  15127490.0\n",
       "4   2020.05.25  48850.0   100.0  48750.0  48900.0  48450.0  14337913.0\n",
       "5   2020.05.22  48750.0  1200.0  49600.0  49800.0  48600.0  19706284.0\n",
       "9   2020.05.21  49950.0    50.0  50300.0  50400.0  49850.0  14949266.0\n",
       "10  2020.05.20  50000.0   300.0  50000.0  50200.0  49800.0  14896899.0\n",
       "11  2020.05.19  50300.0  1500.0  50100.0  50500.0  49700.0  25168295.0\n",
       "12  2020.05.18  48800.0   950.0  47950.0  49100.0  47600.0  20481981.0\n",
       "13  2020.05.15  47850.0   150.0  48400.0  48450.0  47700.0  18463118.0\n",
       "1   2020.05.14  48000.0   550.0  47750.0  48100.0  47650.0  19305974.0\n",
       "2   2020.05.13  48550.0   650.0  47250.0  48550.0  47200.0  20223277.0\n",
       "3   2020.05.12  47900.0   500.0  48400.0  48500.0  47550.0  23433590.0\n",
       "4   2020.05.11  48400.0   400.0  48900.0  49250.0  48300.0  16357743.0\n",
       "5   2020.05.08  48800.0     0.0  49100.0  49350.0  48800.0  15319700.0\n",
       "9   2020.05.07  48800.0   400.0  49200.0  49300.0  48700.0  13884411.0\n",
       "10  2020.05.06  49200.0   700.0  49000.0  49200.0  48500.0  18070225.0\n",
       "11  2020.05.04  48500.0  1500.0  48900.0  49100.0  48500.0  26083749.0\n",
       "12  2020.04.29  50000.0   100.0  49900.0  50500.0  49600.0  15604533.0\n",
       "13  2020.04.28  50100.0   250.0  49850.0  50100.0  49300.0  16095399.0"
      ]
     },
     "execution_count": 163,
     "metadata": {},
     "output_type": "execute_result"
    }
   ],
   "source": [
    "ss_stock.head(20)"
   ]
  }
 ],
 "metadata": {
  "hide_input": false,
  "kernelspec": {
   "display_name": "Python 3",
   "language": "python",
   "name": "python3"
  },
  "language_info": {
   "codemirror_mode": {
    "name": "ipython",
    "version": 3
   },
   "file_extension": ".py",
   "mimetype": "text/x-python",
   "name": "python",
   "nbconvert_exporter": "python",
   "pygments_lexer": "ipython3",
   "version": "3.7.7"
  },
  "toc": {
   "base_numbering": 1,
   "nav_menu": {},
   "number_sections": true,
   "sideBar": true,
   "skip_h1_title": false,
   "title_cell": "Table of Contents",
   "title_sidebar": "Contents",
   "toc_cell": false,
   "toc_position": {
    "height": "calc(100% - 180px)",
    "left": "10px",
    "top": "150px",
    "width": "384px"
   },
   "toc_section_display": true,
   "toc_window_display": true
  },
  "varInspector": {
   "cols": {
    "lenName": 16,
    "lenType": 16,
    "lenVar": 40
   },
   "kernels_config": {
    "python": {
     "delete_cmd_postfix": "",
     "delete_cmd_prefix": "del ",
     "library": "var_list.py",
     "varRefreshCmd": "print(var_dic_list())"
    },
    "r": {
     "delete_cmd_postfix": ") ",
     "delete_cmd_prefix": "rm(",
     "library": "var_list.r",
     "varRefreshCmd": "cat(var_dic_list()) "
    }
   },
   "types_to_exclude": [
    "module",
    "function",
    "builtin_function_or_method",
    "instance",
    "_Feature"
   ],
   "window_display": false
  }
 },
 "nbformat": 4,
 "nbformat_minor": 4
}
